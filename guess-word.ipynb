{
 "cells": [
  {
   "cell_type": "markdown",
   "metadata": {},
   "source": [
    "Create a Python program for a game where players guess a word. Validate that the player's input"
   ]
  },
  {
   "cell_type": "code",
   "execution_count": 1,
   "metadata": {},
   "outputs": [
    {
     "name": "stdout",
     "output_type": "stream",
     "text": [
      "Welcome!\n",
      "Word: ____\n",
      "Incorrect Guesses: 0\n",
      "Word: d___\n",
      "Incorrect Guesses: 0\n",
      "Word: da__\n",
      "Incorrect Guesses: 0\n",
      "Incorrect guess!\n",
      "Word: da__\n",
      "Incorrect Guesses: 1\n",
      "Word: dat_\n",
      "Incorrect Guesses: 1\n",
      "Word: date\n",
      "Incorrect Guesses: 1\n",
      "Congratulations! You guessed the word: date\n",
      "Thank-you!\n"
     ]
    }
   ],
   "source": [
    "import random\n",
    "word_list = [\"apple\", \"banana\", \"cherry\", \"date\", \"elderberry\", \"fig\", \"grape\", \"honeydew\", \"kiwi\", \"lemon\"]\n",
    "selected_word = random.choice(word_list)\n",
    "guessed_letters = []\n",
    "max_attempts = 6\n",
    "incorrect_guesses = 0\n",
    "\n",
    "print(\"Welcome!\")\n",
    "while True:\n",
    "    display_word = \"\"\n",
    "    for letter in selected_word:\n",
    "        if letter in guessed_letters:\n",
    "            display_word += letter\n",
    "        else:\n",
    "            display_word += \"_\"\n",
    "    print(\"Word:\", display_word)\n",
    "    print(\"Incorrect Guesses:\", incorrect_guesses)\n",
    "    if display_word == selected_word:\n",
    "        print(\"Congratulations! You guessed the word:\", selected_word)\n",
    "        break\n",
    "    if incorrect_guesses >= max_attempts:\n",
    "        print(\"You've run out of attempts. The word was:\", selected_word)\n",
    "        break\n",
    "    guess = input(\"Guess a letter: \").lower()\n",
    "    if len(guess) != 1 or not guess.islower() or ord(guess) < ord('a') or ord(guess) > ord('z'):\n",
    "        print(\"Please enter a single lowercase letter.\")\n",
    "        continue\n",
    "    if guess in guessed_letters:\n",
    "        print(\"You've already guessed that letter.\")\n",
    "    else:\n",
    "        guessed_letters.append(guess)\n",
    "        if guess not in selected_word:\n",
    "            incorrect_guesses += 1\n",
    "            print(\"Incorrect guess!\")\n",
    "print(\"Thank-you!\")\n"
   ]
  }
 ],
 "metadata": {
  "kernelspec": {
   "display_name": "Edujournal",
   "language": "python",
   "name": "python3"
  },
  "language_info": {
   "codemirror_mode": {
    "name": "ipython",
    "version": 3
   },
   "file_extension": ".py",
   "mimetype": "text/x-python",
   "name": "python",
   "nbconvert_exporter": "python",
   "pygments_lexer": "ipython3",
   "version": "3.11.4"
  }
 },
 "nbformat": 4,
 "nbformat_minor": 2
}
